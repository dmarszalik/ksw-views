{
 "cells": [
  {
   "cell_type": "code",
   "execution_count": 97,
   "metadata": {},
   "outputs": [],
   "source": [
    "import pandas as pd\n",
    "import re\n",
    "\n",
    "from sklearn import preprocessing\n",
    "\n",
    "from sklearn.preprocessing import StandardScaler\n",
    "from sklearn.feature_extraction.text import TfidfVectorizer\n",
    "from sklearn.model_selection import train_test_split\n",
    "from nltk.tokenize import RegexpTokenizer\n",
    "\n",
    "from sklearn.svm import SVR\n",
    "from sklearn.ensemble import RandomForestRegressor\n",
    "from sklearn.ensemble import GradientBoostingRegressor\n",
    "from sklearn.model_selection import GridSearchCV\n",
    "from sklearn.ensemble import AdaBoostRegressor\n",
    "from sklearn.linear_model import LinearRegression\n",
    "\n",
    "from sklearn.metrics import mean_squared_error\n",
    "\n",
    "from sklearn.compose import ColumnTransformer\n",
    "from sklearn.pipeline import Pipeline\n"
   ]
  },
  {
   "cell_type": "code",
   "execution_count": 98,
   "metadata": {},
   "outputs": [],
   "source": [
    "def standardize_text(df, text_field):\n",
    "    df[text_field] = df[text_field].str.lower()\n",
    "    df[text_field] = df[text_field].apply(lambda elem: re.sub(r\"http\\S+\", \"\", elem))  # get rid of URLs\n",
    "    return df"
   ]
  },
  {
   "cell_type": "code",
   "execution_count": 99,
   "metadata": {},
   "outputs": [],
   "source": [
    "initial_df = pd.read_csv('youtube_data.csv')\n"
   ]
  },
  {
   "cell_type": "code",
   "execution_count": 100,
   "metadata": {},
   "outputs": [
    {
     "data": {
      "text/html": [
       "<div>\n",
       "<style scoped>\n",
       "    .dataframe tbody tr th:only-of-type {\n",
       "        vertical-align: middle;\n",
       "    }\n",
       "\n",
       "    .dataframe tbody tr th {\n",
       "        vertical-align: top;\n",
       "    }\n",
       "\n",
       "    .dataframe thead th {\n",
       "        text-align: right;\n",
       "    }\n",
       "</style>\n",
       "<table border=\"1\" class=\"dataframe\">\n",
       "  <thead>\n",
       "    <tr style=\"text-align: right;\">\n",
       "      <th></th>\n",
       "      <th>video_id</th>\n",
       "      <th>title</th>\n",
       "      <th>view_count</th>\n",
       "      <th>channel</th>\n",
       "      <th>channel_subscribers</th>\n",
       "      <th>publish_time</th>\n",
       "    </tr>\n",
       "  </thead>\n",
       "  <tbody>\n",
       "    <tr>\n",
       "      <th>0</th>\n",
       "      <td>aYZgNn1aaaY</td>\n",
       "      <td>Bobby Green vs Tony Ferguson | FREE FIGHT | UF...</td>\n",
       "      <td>430705</td>\n",
       "      <td>UFC</td>\n",
       "      <td>16900000</td>\n",
       "      <td>2023-10-02T14:00:01Z</td>\n",
       "    </tr>\n",
       "    <tr>\n",
       "      <th>1</th>\n",
       "      <td>-xAKq2yWM3s</td>\n",
       "      <td>Charles Oliveira vs Islam Makhachev | FREE FIG...</td>\n",
       "      <td>4027978</td>\n",
       "      <td>UFC</td>\n",
       "      <td>16900000</td>\n",
       "      <td>2023-09-25T17:40:56Z</td>\n",
       "    </tr>\n",
       "    <tr>\n",
       "      <th>2</th>\n",
       "      <td>p5TkMyRqWe8</td>\n",
       "      <td>Charles Oliveira ACCUSES UFC of UNFAIR TREATME...</td>\n",
       "      <td>88542</td>\n",
       "      <td>Full Mount MMA</td>\n",
       "      <td>481000</td>\n",
       "      <td>2023-10-02T19:15:06Z</td>\n",
       "    </tr>\n",
       "    <tr>\n",
       "      <th>3</th>\n",
       "      <td>1N7SF_issiQ</td>\n",
       "      <td>Paulo Costa vs Luke Rockhold | FREE FIGHT | UF...</td>\n",
       "      <td>872278</td>\n",
       "      <td>UFC</td>\n",
       "      <td>16900000</td>\n",
       "      <td>2023-09-30T14:00:02Z</td>\n",
       "    </tr>\n",
       "    <tr>\n",
       "      <th>4</th>\n",
       "      <td>HdTiQnBzoEk</td>\n",
       "      <td>Dana forcing Belal to fight Usman - No Title Shot</td>\n",
       "      <td>21581</td>\n",
       "      <td>Mojahed Fudailat</td>\n",
       "      <td>531000</td>\n",
       "      <td>2023-10-03T14:18:18Z</td>\n",
       "    </tr>\n",
       "  </tbody>\n",
       "</table>\n",
       "</div>"
      ],
      "text/plain": [
       "      video_id                                              title  view_count  \\\n",
       "0  aYZgNn1aaaY  Bobby Green vs Tony Ferguson | FREE FIGHT | UF...      430705   \n",
       "1  -xAKq2yWM3s  Charles Oliveira vs Islam Makhachev | FREE FIG...     4027978   \n",
       "2  p5TkMyRqWe8  Charles Oliveira ACCUSES UFC of UNFAIR TREATME...       88542   \n",
       "3  1N7SF_issiQ  Paulo Costa vs Luke Rockhold | FREE FIGHT | UF...      872278   \n",
       "4  HdTiQnBzoEk  Dana forcing Belal to fight Usman - No Title Shot       21581   \n",
       "\n",
       "            channel  channel_subscribers          publish_time  \n",
       "0               UFC             16900000  2023-10-02T14:00:01Z  \n",
       "1               UFC             16900000  2023-09-25T17:40:56Z  \n",
       "2    Full Mount MMA               481000  2023-10-02T19:15:06Z  \n",
       "3               UFC             16900000  2023-09-30T14:00:02Z  \n",
       "4  Mojahed Fudailat               531000  2023-10-03T14:18:18Z  "
      ]
     },
     "execution_count": 100,
     "metadata": {},
     "output_type": "execute_result"
    }
   ],
   "source": [
    "initial_df.head()"
   ]
  },
  {
   "cell_type": "code",
   "execution_count": 101,
   "metadata": {},
   "outputs": [
    {
     "name": "stdout",
     "output_type": "stream",
     "text": [
      "<class 'pandas.core.frame.DataFrame'>\n",
      "RangeIndex: 562 entries, 0 to 561\n",
      "Data columns (total 6 columns):\n",
      " #   Column               Non-Null Count  Dtype \n",
      "---  ------               --------------  ----- \n",
      " 0   video_id             562 non-null    object\n",
      " 1   title                562 non-null    object\n",
      " 2   view_count           562 non-null    int64 \n",
      " 3   channel              562 non-null    object\n",
      " 4   channel_subscribers  562 non-null    int64 \n",
      " 5   publish_time         562 non-null    object\n",
      "dtypes: int64(2), object(4)\n",
      "memory usage: 26.5+ KB\n"
     ]
    }
   ],
   "source": [
    "initial_df.info()"
   ]
  },
  {
   "cell_type": "code",
   "execution_count": 102,
   "metadata": {},
   "outputs": [],
   "source": [
    "df = initial_df[initial_df['channel'] != 'KSW']\n",
    "df = df[df['channel'] != 'KSW International']\n",
    "df = df[df['channel'] != 'UFC']"
   ]
  },
  {
   "cell_type": "code",
   "execution_count": 103,
   "metadata": {},
   "outputs": [
    {
     "name": "stdout",
     "output_type": "stream",
     "text": [
      "<class 'pandas.core.frame.DataFrame'>\n",
      "Index: 399 entries, 2 to 561\n",
      "Data columns (total 6 columns):\n",
      " #   Column               Non-Null Count  Dtype \n",
      "---  ------               --------------  ----- \n",
      " 0   video_id             399 non-null    object\n",
      " 1   title                399 non-null    object\n",
      " 2   view_count           399 non-null    int64 \n",
      " 3   channel              399 non-null    object\n",
      " 4   channel_subscribers  399 non-null    int64 \n",
      " 5   publish_time         399 non-null    object\n",
      "dtypes: int64(2), object(4)\n",
      "memory usage: 21.8+ KB\n"
     ]
    }
   ],
   "source": [
    "df.info()"
   ]
  },
  {
   "cell_type": "code",
   "execution_count": 104,
   "metadata": {},
   "outputs": [],
   "source": [
    "clean_df = standardize_text(df, \"title\")"
   ]
  },
  {
   "cell_type": "code",
   "execution_count": 105,
   "metadata": {},
   "outputs": [],
   "source": [
    "X = clean_df[['channel', 'channel_subscribers', 'title']]\n",
    "y = clean_df['view_count']"
   ]
  },
  {
   "cell_type": "code",
   "execution_count": 106,
   "metadata": {},
   "outputs": [],
   "source": [
    "X_train, X_test, y_train, y_test = train_test_split(X, y, test_size=0.2)\n",
    "X_train, X_val, y_train, y_val = train_test_split(X_test, y_test, test_size=0.2)"
   ]
  },
  {
   "cell_type": "code",
   "execution_count": 107,
   "metadata": {},
   "outputs": [],
   "source": [
    "tfidf_vectorizer = TfidfVectorizer(max_features=50)"
   ]
  },
  {
   "cell_type": "code",
   "execution_count": 108,
   "metadata": {},
   "outputs": [],
   "source": [
    "# numeric_features = ['channel_subscribers']\n",
    "# text_features = ['tokens']"
   ]
  },
  {
   "cell_type": "code",
   "execution_count": 109,
   "metadata": {},
   "outputs": [],
   "source": [
    "preprocessor = ColumnTransformer(\n",
    "    transformers=[\n",
    "        ('tfidf', tfidf_vectorizer, 'title'),\n",
    "        ('scaler', StandardScaler(), ['channel_subscribers'])\n",
    "    ])"
   ]
  },
  {
   "cell_type": "code",
   "execution_count": 110,
   "metadata": {},
   "outputs": [],
   "source": [
    "lr = LinearRegression()\n",
    "svr = SVR()\n",
    "rfr = RandomForestRegressor()\n",
    "gbr = GradientBoostingRegressor()"
   ]
  },
  {
   "cell_type": "code",
   "execution_count": 111,
   "metadata": {},
   "outputs": [],
   "source": [
    "\n",
    "model = Pipeline(steps=[\n",
    "    ('preprocessor', preprocessor),\n",
    "    ('model', lr)\n",
    "    ])"
   ]
  },
  {
   "cell_type": "code",
   "execution_count": 112,
   "metadata": {},
   "outputs": [
    {
     "name": "stdout",
     "output_type": "stream",
     "text": [
      "Mean Squared Error (MSE) na danych walidacyjnych: 511743012264652.0\n"
     ]
    }
   ],
   "source": [
    "model.fit(X_train, y_train)\n",
    "\n",
    "# Predykcja na danych walidacyjnych\n",
    "y_val_pred = model.predict(X_val)\n",
    "\n",
    "mse = mean_squared_error(y_val, y_val_pred)\n",
    "print(f\"Mean Squared Error (MSE) na danych walidacyjnych: {mse}\")"
   ]
  },
  {
   "cell_type": "code",
   "execution_count": 113,
   "metadata": {},
   "outputs": [],
   "source": [
    "param_grid = [\n",
    "    {\n",
    "        'model': [lr],\n",
    "        'model__fit_intercept': [True, False],\n",
    "        # Dodaj inne hiperparametry LinearRegression\n",
    "    },\n",
    "    {\n",
    "        'model': [svr],\n",
    "        'model__C': [0.1, 1.0, 10.0],\n",
    "        'model__kernel': ['linear', 'rbf'],\n",
    "        'model__epsilon': [0.1, 0.2, 0.3],\n",
    "        'model__gamma': ['scale', 'auto'],\n",
    "    },\n",
    "    {\n",
    "        'model': [rfr],\n",
    "        'model__n_estimators': [100, 200, 300],\n",
    "        'model__max_depth': [None, 10, 20],\n",
    "        'model__min_samples_split': [2, 5, 10],\n",
    "        'model__min_samples_leaf': [1, 2, 4],\n",
    "    },\n",
    "    {\n",
    "        'model': [gbr],\n",
    "        'model__n_estimators': [100, 200, 300],\n",
    "        'model__learning_rate': [0.01, 0.1, 0.2],\n",
    "        'model__max_depth': [3, 4, 5],\n",
    "        'model__min_samples_split': [2, 3, 4],\n",
    "    },\n",
    "]"
   ]
  },
  {
   "cell_type": "code",
   "execution_count": 114,
   "metadata": {},
   "outputs": [
    {
     "data": {
      "text/html": [
       "<style>#sk-container-id-1 {color: black;background-color: white;}#sk-container-id-1 pre{padding: 0;}#sk-container-id-1 div.sk-toggleable {background-color: white;}#sk-container-id-1 label.sk-toggleable__label {cursor: pointer;display: block;width: 100%;margin-bottom: 0;padding: 0.3em;box-sizing: border-box;text-align: center;}#sk-container-id-1 label.sk-toggleable__label-arrow:before {content: \"▸\";float: left;margin-right: 0.25em;color: #696969;}#sk-container-id-1 label.sk-toggleable__label-arrow:hover:before {color: black;}#sk-container-id-1 div.sk-estimator:hover label.sk-toggleable__label-arrow:before {color: black;}#sk-container-id-1 div.sk-toggleable__content {max-height: 0;max-width: 0;overflow: hidden;text-align: left;background-color: #f0f8ff;}#sk-container-id-1 div.sk-toggleable__content pre {margin: 0.2em;color: black;border-radius: 0.25em;background-color: #f0f8ff;}#sk-container-id-1 input.sk-toggleable__control:checked~div.sk-toggleable__content {max-height: 200px;max-width: 100%;overflow: auto;}#sk-container-id-1 input.sk-toggleable__control:checked~label.sk-toggleable__label-arrow:before {content: \"▾\";}#sk-container-id-1 div.sk-estimator input.sk-toggleable__control:checked~label.sk-toggleable__label {background-color: #d4ebff;}#sk-container-id-1 div.sk-label input.sk-toggleable__control:checked~label.sk-toggleable__label {background-color: #d4ebff;}#sk-container-id-1 input.sk-hidden--visually {border: 0;clip: rect(1px 1px 1px 1px);clip: rect(1px, 1px, 1px, 1px);height: 1px;margin: -1px;overflow: hidden;padding: 0;position: absolute;width: 1px;}#sk-container-id-1 div.sk-estimator {font-family: monospace;background-color: #f0f8ff;border: 1px dotted black;border-radius: 0.25em;box-sizing: border-box;margin-bottom: 0.5em;}#sk-container-id-1 div.sk-estimator:hover {background-color: #d4ebff;}#sk-container-id-1 div.sk-parallel-item::after {content: \"\";width: 100%;border-bottom: 1px solid gray;flex-grow: 1;}#sk-container-id-1 div.sk-label:hover label.sk-toggleable__label {background-color: #d4ebff;}#sk-container-id-1 div.sk-serial::before {content: \"\";position: absolute;border-left: 1px solid gray;box-sizing: border-box;top: 0;bottom: 0;left: 50%;z-index: 0;}#sk-container-id-1 div.sk-serial {display: flex;flex-direction: column;align-items: center;background-color: white;padding-right: 0.2em;padding-left: 0.2em;position: relative;}#sk-container-id-1 div.sk-item {position: relative;z-index: 1;}#sk-container-id-1 div.sk-parallel {display: flex;align-items: stretch;justify-content: center;background-color: white;position: relative;}#sk-container-id-1 div.sk-item::before, #sk-container-id-1 div.sk-parallel-item::before {content: \"\";position: absolute;border-left: 1px solid gray;box-sizing: border-box;top: 0;bottom: 0;left: 50%;z-index: -1;}#sk-container-id-1 div.sk-parallel-item {display: flex;flex-direction: column;z-index: 1;position: relative;background-color: white;}#sk-container-id-1 div.sk-parallel-item:first-child::after {align-self: flex-end;width: 50%;}#sk-container-id-1 div.sk-parallel-item:last-child::after {align-self: flex-start;width: 50%;}#sk-container-id-1 div.sk-parallel-item:only-child::after {width: 0;}#sk-container-id-1 div.sk-dashed-wrapped {border: 1px dashed gray;margin: 0 0.4em 0.5em 0.4em;box-sizing: border-box;padding-bottom: 0.4em;background-color: white;}#sk-container-id-1 div.sk-label label {font-family: monospace;font-weight: bold;display: inline-block;line-height: 1.2em;}#sk-container-id-1 div.sk-label-container {text-align: center;}#sk-container-id-1 div.sk-container {/* jupyter's `normalize.less` sets `[hidden] { display: none; }` but bootstrap.min.css set `[hidden] { display: none !important; }` so we also need the `!important` here to be able to override the default hidden behavior on the sphinx rendered scikit-learn.org. See: https://github.com/scikit-learn/scikit-learn/issues/21755 */display: inline-block !important;position: relative;}#sk-container-id-1 div.sk-text-repr-fallback {display: none;}</style><div id=\"sk-container-id-1\" class=\"sk-top-container\"><div class=\"sk-text-repr-fallback\"><pre>GridSearchCV(cv=5,\n",
       "             estimator=Pipeline(steps=[(&#x27;preprocessor&#x27;,\n",
       "                                        ColumnTransformer(transformers=[(&#x27;tfidf&#x27;,\n",
       "                                                                         TfidfVectorizer(max_features=50),\n",
       "                                                                         &#x27;title&#x27;),\n",
       "                                                                        (&#x27;scaler&#x27;,\n",
       "                                                                         StandardScaler(),\n",
       "                                                                         [&#x27;channel_subscribers&#x27;])])),\n",
       "                                       (&#x27;model&#x27;, LinearRegression())]),\n",
       "             param_grid=[{&#x27;model&#x27;: [LinearRegression()],\n",
       "                          &#x27;model__fit_intercept&#x27;: [True, False]},\n",
       "                         {&#x27;model&#x27;: [SVR()], &#x27;model__C&#x27;: [0.1, 1.0, 10.0]...\n",
       "                                                          n_estimators=200)],\n",
       "                          &#x27;model__max_depth&#x27;: [None, 10, 20],\n",
       "                          &#x27;model__min_samples_leaf&#x27;: [1, 2, 4],\n",
       "                          &#x27;model__min_samples_split&#x27;: [2, 5, 10],\n",
       "                          &#x27;model__n_estimators&#x27;: [100, 200, 300]},\n",
       "                         {&#x27;model&#x27;: [GradientBoostingRegressor()],\n",
       "                          &#x27;model__learning_rate&#x27;: [0.01, 0.1, 0.2],\n",
       "                          &#x27;model__max_depth&#x27;: [3, 4, 5],\n",
       "                          &#x27;model__min_samples_split&#x27;: [2, 3, 4],\n",
       "                          &#x27;model__n_estimators&#x27;: [100, 200, 300]}],\n",
       "             scoring=&#x27;neg_mean_squared_error&#x27;)</pre><b>In a Jupyter environment, please rerun this cell to show the HTML representation or trust the notebook. <br />On GitHub, the HTML representation is unable to render, please try loading this page with nbviewer.org.</b></div><div class=\"sk-container\" hidden><div class=\"sk-item sk-dashed-wrapped\"><div class=\"sk-label-container\"><div class=\"sk-label sk-toggleable\"><input class=\"sk-toggleable__control sk-hidden--visually\" id=\"sk-estimator-id-1\" type=\"checkbox\" ><label for=\"sk-estimator-id-1\" class=\"sk-toggleable__label sk-toggleable__label-arrow\">GridSearchCV</label><div class=\"sk-toggleable__content\"><pre>GridSearchCV(cv=5,\n",
       "             estimator=Pipeline(steps=[(&#x27;preprocessor&#x27;,\n",
       "                                        ColumnTransformer(transformers=[(&#x27;tfidf&#x27;,\n",
       "                                                                         TfidfVectorizer(max_features=50),\n",
       "                                                                         &#x27;title&#x27;),\n",
       "                                                                        (&#x27;scaler&#x27;,\n",
       "                                                                         StandardScaler(),\n",
       "                                                                         [&#x27;channel_subscribers&#x27;])])),\n",
       "                                       (&#x27;model&#x27;, LinearRegression())]),\n",
       "             param_grid=[{&#x27;model&#x27;: [LinearRegression()],\n",
       "                          &#x27;model__fit_intercept&#x27;: [True, False]},\n",
       "                         {&#x27;model&#x27;: [SVR()], &#x27;model__C&#x27;: [0.1, 1.0, 10.0]...\n",
       "                                                          n_estimators=200)],\n",
       "                          &#x27;model__max_depth&#x27;: [None, 10, 20],\n",
       "                          &#x27;model__min_samples_leaf&#x27;: [1, 2, 4],\n",
       "                          &#x27;model__min_samples_split&#x27;: [2, 5, 10],\n",
       "                          &#x27;model__n_estimators&#x27;: [100, 200, 300]},\n",
       "                         {&#x27;model&#x27;: [GradientBoostingRegressor()],\n",
       "                          &#x27;model__learning_rate&#x27;: [0.01, 0.1, 0.2],\n",
       "                          &#x27;model__max_depth&#x27;: [3, 4, 5],\n",
       "                          &#x27;model__min_samples_split&#x27;: [2, 3, 4],\n",
       "                          &#x27;model__n_estimators&#x27;: [100, 200, 300]}],\n",
       "             scoring=&#x27;neg_mean_squared_error&#x27;)</pre></div></div></div><div class=\"sk-parallel\"><div class=\"sk-parallel-item\"><div class=\"sk-item\"><div class=\"sk-label-container\"><div class=\"sk-label sk-toggleable\"><input class=\"sk-toggleable__control sk-hidden--visually\" id=\"sk-estimator-id-2\" type=\"checkbox\" ><label for=\"sk-estimator-id-2\" class=\"sk-toggleable__label sk-toggleable__label-arrow\">estimator: Pipeline</label><div class=\"sk-toggleable__content\"><pre>Pipeline(steps=[(&#x27;preprocessor&#x27;,\n",
       "                 ColumnTransformer(transformers=[(&#x27;tfidf&#x27;,\n",
       "                                                  TfidfVectorizer(max_features=50),\n",
       "                                                  &#x27;title&#x27;),\n",
       "                                                 (&#x27;scaler&#x27;, StandardScaler(),\n",
       "                                                  [&#x27;channel_subscribers&#x27;])])),\n",
       "                (&#x27;model&#x27;, LinearRegression())])</pre></div></div></div><div class=\"sk-serial\"><div class=\"sk-item\"><div class=\"sk-serial\"><div class=\"sk-item sk-dashed-wrapped\"><div class=\"sk-label-container\"><div class=\"sk-label sk-toggleable\"><input class=\"sk-toggleable__control sk-hidden--visually\" id=\"sk-estimator-id-3\" type=\"checkbox\" ><label for=\"sk-estimator-id-3\" class=\"sk-toggleable__label sk-toggleable__label-arrow\">preprocessor: ColumnTransformer</label><div class=\"sk-toggleable__content\"><pre>ColumnTransformer(transformers=[(&#x27;tfidf&#x27;, TfidfVectorizer(max_features=50),\n",
       "                                 &#x27;title&#x27;),\n",
       "                                (&#x27;scaler&#x27;, StandardScaler(),\n",
       "                                 [&#x27;channel_subscribers&#x27;])])</pre></div></div></div><div class=\"sk-parallel\"><div class=\"sk-parallel-item\"><div class=\"sk-item\"><div class=\"sk-label-container\"><div class=\"sk-label sk-toggleable\"><input class=\"sk-toggleable__control sk-hidden--visually\" id=\"sk-estimator-id-4\" type=\"checkbox\" ><label for=\"sk-estimator-id-4\" class=\"sk-toggleable__label sk-toggleable__label-arrow\">tfidf</label><div class=\"sk-toggleable__content\"><pre>title</pre></div></div></div><div class=\"sk-serial\"><div class=\"sk-item\"><div class=\"sk-estimator sk-toggleable\"><input class=\"sk-toggleable__control sk-hidden--visually\" id=\"sk-estimator-id-5\" type=\"checkbox\" ><label for=\"sk-estimator-id-5\" class=\"sk-toggleable__label sk-toggleable__label-arrow\">TfidfVectorizer</label><div class=\"sk-toggleable__content\"><pre>TfidfVectorizer(max_features=50)</pre></div></div></div></div></div></div><div class=\"sk-parallel-item\"><div class=\"sk-item\"><div class=\"sk-label-container\"><div class=\"sk-label sk-toggleable\"><input class=\"sk-toggleable__control sk-hidden--visually\" id=\"sk-estimator-id-6\" type=\"checkbox\" ><label for=\"sk-estimator-id-6\" class=\"sk-toggleable__label sk-toggleable__label-arrow\">scaler</label><div class=\"sk-toggleable__content\"><pre>[&#x27;channel_subscribers&#x27;]</pre></div></div></div><div class=\"sk-serial\"><div class=\"sk-item\"><div class=\"sk-estimator sk-toggleable\"><input class=\"sk-toggleable__control sk-hidden--visually\" id=\"sk-estimator-id-7\" type=\"checkbox\" ><label for=\"sk-estimator-id-7\" class=\"sk-toggleable__label sk-toggleable__label-arrow\">StandardScaler</label><div class=\"sk-toggleable__content\"><pre>StandardScaler()</pre></div></div></div></div></div></div></div></div><div class=\"sk-item\"><div class=\"sk-estimator sk-toggleable\"><input class=\"sk-toggleable__control sk-hidden--visually\" id=\"sk-estimator-id-8\" type=\"checkbox\" ><label for=\"sk-estimator-id-8\" class=\"sk-toggleable__label sk-toggleable__label-arrow\">LinearRegression</label><div class=\"sk-toggleable__content\"><pre>LinearRegression()</pre></div></div></div></div></div></div></div></div></div></div></div></div>"
      ],
      "text/plain": [
       "GridSearchCV(cv=5,\n",
       "             estimator=Pipeline(steps=[('preprocessor',\n",
       "                                        ColumnTransformer(transformers=[('tfidf',\n",
       "                                                                         TfidfVectorizer(max_features=50),\n",
       "                                                                         'title'),\n",
       "                                                                        ('scaler',\n",
       "                                                                         StandardScaler(),\n",
       "                                                                         ['channel_subscribers'])])),\n",
       "                                       ('model', LinearRegression())]),\n",
       "             param_grid=[{'model': [LinearRegression()],\n",
       "                          'model__fit_intercept': [True, False]},\n",
       "                         {'model': [SVR()], 'model__C': [0.1, 1.0, 10.0]...\n",
       "                                                          n_estimators=200)],\n",
       "                          'model__max_depth': [None, 10, 20],\n",
       "                          'model__min_samples_leaf': [1, 2, 4],\n",
       "                          'model__min_samples_split': [2, 5, 10],\n",
       "                          'model__n_estimators': [100, 200, 300]},\n",
       "                         {'model': [GradientBoostingRegressor()],\n",
       "                          'model__learning_rate': [0.01, 0.1, 0.2],\n",
       "                          'model__max_depth': [3, 4, 5],\n",
       "                          'model__min_samples_split': [2, 3, 4],\n",
       "                          'model__n_estimators': [100, 200, 300]}],\n",
       "             scoring='neg_mean_squared_error')"
      ]
     },
     "execution_count": 114,
     "metadata": {},
     "output_type": "execute_result"
    }
   ],
   "source": [
    "grid_search = GridSearchCV(model, param_grid, cv=5, scoring='neg_mean_squared_error')\n",
    "grid_search.fit(X_train, y_train)"
   ]
  },
  {
   "cell_type": "code",
   "execution_count": 115,
   "metadata": {},
   "outputs": [],
   "source": [
    "best_params = grid_search.best_params_\n",
    "best_model = grid_search.best_estimator_"
   ]
  },
  {
   "cell_type": "code",
   "execution_count": 117,
   "metadata": {},
   "outputs": [
    {
     "data": {
      "text/plain": [
       "{'model': RandomForestRegressor(min_samples_leaf=4, min_samples_split=5, n_estimators=200),\n",
       " 'model__max_depth': None,\n",
       " 'model__min_samples_leaf': 4,\n",
       " 'model__min_samples_split': 5,\n",
       " 'model__n_estimators': 200}"
      ]
     },
     "execution_count": 117,
     "metadata": {},
     "output_type": "execute_result"
    }
   ],
   "source": [
    "best_params"
   ]
  },
  {
   "cell_type": "code",
   "execution_count": 119,
   "metadata": {},
   "outputs": [],
   "source": [
    "best_model.fit(X_train, y_train)\n",
    "\n",
    "# Ocena modelu na danych testowych\n",
    "test_score = best_model.score(X_test, y_test)"
   ]
  },
  {
   "cell_type": "code",
   "execution_count": 120,
   "metadata": {},
   "outputs": [
    {
     "data": {
      "text/plain": [
       "0.22890066686605337"
      ]
     },
     "execution_count": 120,
     "metadata": {},
     "output_type": "execute_result"
    }
   ],
   "source": [
    "test_score"
   ]
  },
  {
   "cell_type": "code",
   "execution_count": 123,
   "metadata": {},
   "outputs": [],
   "source": [
    "def test_model(x_test, y_test, model):\n",
    "    \n",
    "\n",
    "    y_pred = model.predict(x_test)\n",
    "\n",
    "    mse = mean_squared_error(y_test, y_pred)\n",
    "    \n",
    "    print(\n",
    "        f'Model: {model}\\n\\n',\n",
    "        f'Mean Squared error: {mse}'\n",
    "        )\n",
    "    # return (model, mse)"
   ]
  },
  {
   "cell_type": "code",
   "execution_count": 124,
   "metadata": {},
   "outputs": [
    {
     "name": "stdout",
     "output_type": "stream",
     "text": [
      "Model: Pipeline(steps=[('preprocessor',\n",
      "                 ColumnTransformer(transformers=[('tfidf',\n",
      "                                                  TfidfVectorizer(max_features=50),\n",
      "                                                  'title'),\n",
      "                                                 ('scaler', StandardScaler(),\n",
      "                                                  ['channel_subscribers'])])),\n",
      "                ('model',\n",
      "                 RandomForestRegressor(min_samples_leaf=4, min_samples_split=5,\n",
      "                                       n_estimators=200))])\n",
      "\n",
      " Mean Squared error: 68317024280621.29\n"
     ]
    }
   ],
   "source": [
    "test_model(X_test, y_test, best_model)"
   ]
  },
  {
   "cell_type": "code",
   "execution_count": 125,
   "metadata": {},
   "outputs": [
    {
     "data": {
      "image/png": "[encoded data removed]",
      "text/plain": [
       "<Figure size 1600x1000 with 4 Axes>"
      ]
     },
     "metadata": {},
     "output_type": "display_data"
    }
   ],
   "source": [
    "# df with real and predicted y for the train set\n",
    "from matplotlib import pyplot as plt\n",
    "\n",
    "\n",
    "y_pred_train = best_model.predict(X_train)\n",
    "df_train = {'y_train': y_train, 'y_pred_train': y_pred_train, 'train_diff': y_train-y_pred_train}\n",
    "df_train = pd.DataFrame(df_train)\n",
    "df_train.sort_values(by = 'y_train', inplace = True)\n",
    "\n",
    "# df with real and predicted y for the test set\n",
    "y_pred_test = best_model.predict(X_test)\n",
    "df_test = {'y_test': y_test, 'y_pred_test': y_pred_test, 'test_diff': y_test-y_pred_test}\n",
    "df_test = pd.DataFrame(df_test)\n",
    "df_test.sort_values(by = 'y_test', inplace = True)\n",
    "\n",
    "# plot\n",
    "figure, axis = plt.subplots(2, 2, figsize=(16, 10), sharey = 'row')\n",
    "\n",
    "length_train = range(len(df_train))\n",
    "length_test = range(len(df_test))\n",
    "\n",
    "# Salary: y_train v. y_pred\n",
    "axis[0, 0].scatter(length_train, df_train['y_train'], marker = '.', label = 'y_train')\n",
    "axis[0, 0].scatter(length_train, df_train['y_pred_train'], marker = '.', label = 'y_pred')\n",
    "axis[0, 0].legend()\n",
    "axis[0, 0].set_title(\"Salary: y_train v. y_pred\")\n",
    "axis[0, 0].set_xlabel('Row Number')\n",
    "axis[0, 0].set_ylabel('y')\n",
    "\n",
    "# Salary: y_train - y_pred\n",
    "axis[1, 0].scatter(length_train, df_train['train_diff'], marker = '.')\n",
    "axis[1, 0].set_title(\"Salary: y_train - y_pred\")\n",
    "axis[1, 0].set_xlabel('Row Number')\n",
    "axis[1, 0].set_ylabel('diff')\n",
    "\n",
    "# Salary: y_test v. y_pred\n",
    "axis[0, 1].scatter(length_test, df_test['y_test'], marker = '.', label = 'y_train')\n",
    "axis[0, 1].scatter(length_test, df_test['y_pred_test'], marker = '.', label = 'y_pred')\n",
    "axis[0, 1].legend()\n",
    "axis[0, 1].set_title(\"Salary: y_test v. y_pred\")\n",
    "axis[0, 1].set_xlabel('Row Number')\n",
    "axis[0, 1].set_ylabel('y')\n",
    "\n",
    "# Salary: y_test - y_pred\n",
    "axis[1, 1].scatter(length_test, df_test['test_diff'], marker = '.')\n",
    "axis[1, 1].set_title(\"Salary: y_test - y_pred\")\n",
    "axis[1, 1].set_xlabel('Row Number')\n",
    "axis[1, 1].set_ylabel('diff')\n",
    "\n",
    "plt.show()"
   ]
  }
 ],
 "metadata": {
  "datalore": {
   "base_environment": "default",
   "computation_mode": "JUPYTER",
   "package_manager": "pip",
   "packages": [],
   "report_row_ids": [
    "wmefQcSS7EhPljXTnambyv",
    "yhj46oHsWw27P8hyYIIDWY",
    "ODWm8jImNxfMeYgrLS2V7i",
    "uAtpGmFt0qCZFU40rUh7mJ",
    "txbh56OBFNALZvdfyQ1ljq",
    "BzunFLYd4jDSKPiGJuxnNF",
    "1ldMS6RsMvBolrT1ot1INf",
    "Yfmg9YjpevOlwcwDIb5X0P",
    "iawKVNZPX7klPJyiUd1uwu",
    "DQpziOkVbHBlEEBm5i1AHT",
    "RlBCvcTDNcQGhEHjUGKOeb",
    "h3k641hFrjSG6fcyHHA0pO",
    "JGXySPamRKKXOBs9WrOOxq",
    "1gP3V90njSnK84RtBb8Sfp",
    "Lr7Fbx1FoFZaKCU1ld0PdQ",
    "7ZUrUxQY9bNgYlDL5obVrM",
    "3NUcLkV5mGsy1PtVwNhECz",
    "xHOoC4zWMMwhTP7DHwLIKH",
    "tM0T5r2CoUvbZjKjLoG8uK",
    "jFsRMg7jAyVuEDJtD1xseF"
   ],
   "version": 3
  },
  "kernelspec": {
   "display_name": "base",
   "language": "python",
   "name": "python3"
  },
  "language_info": {
   "codemirror_mode": {
    "name": "ipython",
    "version": 3
   },
   "file_extension": ".py",
   "mimetype": "text/x-python",
   "name": "python",
   "nbconvert_exporter": "python",
   "pygments_lexer": "ipython3",
   "version": "3.10.9"
  }
 },
 "nbformat": 4,
 "nbformat_minor": 4
}
